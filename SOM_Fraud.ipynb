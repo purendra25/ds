{
  "nbformat": 4,
  "nbformat_minor": 0,
  "metadata": {
    "colab": {
      "name": "SOM.ipynb",
      "provenance": [],
      "authorship_tag": "ABX9TyMbe7mysZVl4tun0mq2OSAh",
      "include_colab_link": true
    },
    "kernelspec": {
      "name": "python3",
      "display_name": "Python 3"
    }
  },
  "cells": [
    {
      "cell_type": "markdown",
      "metadata": {
        "id": "view-in-github",
        "colab_type": "text"
      },
      "source": [
        "<a href=\"https://colab.research.google.com/github/purendra25/ds/blob/master/SOM_Fraud.ipynb\" target=\"_parent\"><img src=\"https://colab.research.google.com/assets/colab-badge.svg\" alt=\"Open In Colab\"/></a>"
      ]
    },
    {
      "cell_type": "code",
      "metadata": {
        "id": "qhgLCjPg22Rk"
      },
      "source": [
        "import pandas as pd\n",
        "import numpy as np\n",
        "import matplotlib.pyplot as plt\n"
      ],
      "execution_count": 142,
      "outputs": []
    },
    {
      "cell_type": "code",
      "metadata": {
        "id": "9RZdjh8I5LGM"
      },
      "source": [
        "data_set = pd.read_csv('Credit_Card_Applications.csv')"
      ],
      "execution_count": 143,
      "outputs": []
    },
    {
      "cell_type": "code",
      "metadata": {
        "id": "zj4UFXnh76Qg"
      },
      "source": [
        "X = data_set.iloc[:,:-1].values\n",
        "y = data_set.iloc[:,-1].values"
      ],
      "execution_count": 144,
      "outputs": []
    },
    {
      "cell_type": "code",
      "metadata": {
        "id": "b3496x7r8H9j"
      },
      "source": [
        "#print(X)"
      ],
      "execution_count": 145,
      "outputs": []
    },
    {
      "cell_type": "code",
      "metadata": {
        "id": "naqel-uK5Vdp"
      },
      "source": [
        "#print(data_set)"
      ],
      "execution_count": 146,
      "outputs": []
    },
    {
      "cell_type": "code",
      "metadata": {
        "id": "2ZKGRhq6729h"
      },
      "source": [
        "#Featurre Scaling"
      ],
      "execution_count": 147,
      "outputs": []
    },
    {
      "cell_type": "code",
      "metadata": {
        "id": "jXIxcEfb8gME"
      },
      "source": [
        "from sklearn.preprocessing import MinMaxScaler\n",
        "sc = MinMaxScaler(feature_range=(0, 1))\n",
        "X  = sc.fit_transform(X,y)"
      ],
      "execution_count": 148,
      "outputs": []
    },
    {
      "cell_type": "code",
      "metadata": {
        "id": "DVegkXn89SZM",
        "outputId": "183ab19b-1563-47ca-d563-4bf3f187aa04",
        "colab": {
          "base_uri": "https://localhost:8080/",
          "height": 238
        }
      },
      "source": [
        "print(X)"
      ],
      "execution_count": 149,
      "outputs": [
        {
          "output_type": "stream",
          "text": [
            "[[8.42681467e-01 1.00000000e+00 1.25263158e-01 ... 5.00000000e-01\n",
            "  5.00000000e-02 1.21200000e-02]\n",
            " [6.96090562e-01 0.00000000e+00 1.34135338e-01 ... 5.00000000e-01\n",
            "  8.00000000e-02 0.00000000e+00]\n",
            " [3.88981656e-01 0.00000000e+00 2.38045113e-01 ... 5.00000000e-01\n",
            "  1.40000000e-01 0.00000000e+00]\n",
            " ...\n",
            " [4.39420332e-01 0.00000000e+00 7.63909774e-02 ... 5.00000000e-01\n",
            "  5.00000000e-02 0.00000000e+00]\n",
            " [8.44034934e-01 0.00000000e+00 2.05563910e-01 ... 5.00000000e-01\n",
            "  6.00000000e-02 1.10000000e-04]\n",
            " [1.06907888e-01 1.00000000e+00 4.09774436e-01 ... 0.00000000e+00\n",
            "  2.80000000e-01 0.00000000e+00]]\n"
          ],
          "name": "stdout"
        }
      ]
    },
    {
      "cell_type": "code",
      "metadata": {
        "id": "8qpTyGne-F6Z",
        "outputId": "c8b7a2b6-44c2-40ca-f796-ecd262207768",
        "colab": {
          "base_uri": "https://localhost:8080/",
          "height": 34
        }
      },
      "source": [
        "pip install minisom"
      ],
      "execution_count": 150,
      "outputs": [
        {
          "output_type": "stream",
          "text": [
            "Requirement already satisfied: minisom in /usr/local/lib/python3.6/dist-packages (2.2.6)\n"
          ],
          "name": "stdout"
        }
      ]
    },
    {
      "cell_type": "code",
      "metadata": {
        "id": "39Rn1Ss--IFW"
      },
      "source": [
        "from minisom import MiniSom  "
      ],
      "execution_count": 151,
      "outputs": []
    },
    {
      "cell_type": "code",
      "metadata": {
        "id": "NC8HW21i-L6X"
      },
      "source": [
        "som = MiniSom(x = 10, y=10, input_len=15, sigma=1.0, learning_rate=0.5)"
      ],
      "execution_count": 152,
      "outputs": []
    },
    {
      "cell_type": "code",
      "metadata": {
        "id": "NMJsQXde_R2X"
      },
      "source": [
        "som.random_weights_init(X)"
      ],
      "execution_count": 153,
      "outputs": []
    },
    {
      "cell_type": "code",
      "metadata": {
        "id": "tdWqiigM-MFa"
      },
      "source": [
        "som.train_random(data= X, num_iteration=100)"
      ],
      "execution_count": 154,
      "outputs": []
    },
    {
      "cell_type": "code",
      "metadata": {
        "id": "ySOqHX-WAEom"
      },
      "source": [
        "from pylab import bone,show,colorbar,plot,pcolor as pl"
      ],
      "execution_count": 155,
      "outputs": []
    },
    {
      "cell_type": "code",
      "metadata": {
        "id": "b1xW6oxTAQg1",
        "outputId": "e54ad1c3-bd61-424e-8af2-9b3c5c3f1fef",
        "colab": {
          "base_uri": "https://localhost:8080/",
          "height": 34
        }
      },
      "source": [
        "bone()"
      ],
      "execution_count": 156,
      "outputs": [
        {
          "output_type": "display_data",
          "data": {
            "text/plain": [
              "<Figure size 432x288 with 0 Axes>"
            ]
          },
          "metadata": {
            "tags": []
          }
        }
      ]
    },
    {
      "cell_type": "code",
      "metadata": {
        "id": "XGDvM0HGAQsA",
        "outputId": "3d5d7a6a-9967-4aa9-cba3-08f8aa43c260",
        "colab": {
          "base_uri": "https://localhost:8080/",
          "height": 269
        }
      },
      "source": [
        "pcolor(som.distance_map().T)\n",
        "colorbar()\n",
        "\n",
        "markers = ['o','s']\n",
        "colors = ['r','g']\n",
        "\n",
        "for i,x in enumerate(X):\n",
        "  w = som.winner(x)\n",
        "  plot(w[0]+0.5\n",
        "       ,w[1]+0.5,\n",
        "       markers[y[i]],\n",
        "       markeredgecolor = colors[y[i]],\n",
        "       markerfacecolor = 'None',\n",
        "       markersize=10,\n",
        "       markeredgewidth = 2)\n",
        "show()\n"
      ],
      "execution_count": 157,
      "outputs": [
        {
          "output_type": "display_data",
          "data": {
            "image/png": "[encoded data removed]",
            "text/plain": [
              "<Figure size 432x288 with 2 Axes>"
            ]
          },
          "metadata": {
            "tags": [],
            "needs_background": "light"
          }
        }
      ]
    },
    {
      "cell_type": "code",
      "metadata": {
        "id": "M1nLXuSGHJfQ",
        "outputId": "4ea4fec7-e8ac-47af-fc44-4e18e5f10d8b",
        "colab": {
          "base_uri": "https://localhost:8080/",
          "height": 119
        }
      },
      "source": [
        "mappings = som.win_map(X)\n",
        "# fraud = np.concatenate((mappings[(1,6)],mappings[(7,2)]),axis=0)\n",
        "fraud = mappings[(8,3)]\n",
        "#print(fraud)\n",
        "\n",
        "fraud = sc.inverse_transform(fraud)\n",
        "print(fraud)"
      ],
      "execution_count": 160,
      "outputs": [
        {
          "output_type": "stream",
          "text": [
            "[[1.5608595e+07 0.0000000e+00 3.0420000e+01 1.3750000e+00 2.0000000e+00\n",
            "  9.0000000e+00 8.0000000e+00 4.0000000e-02 0.0000000e+00 1.0000000e+00\n",
            "  3.0000000e+00 0.0000000e+00 2.0000000e+00 0.0000000e+00 3.4000000e+01]\n",
            " [1.5666166e+07 0.0000000e+00 2.0080000e+01 1.2500000e-01 2.0000000e+00\n",
            "  1.1000000e+01 4.0000000e+00 1.0000000e+00 0.0000000e+00 1.0000000e+00\n",
            "  1.0000000e+00 0.0000000e+00 2.0000000e+00 2.4000000e+02 7.6900000e+02]]\n"
          ],
          "name": "stdout"
        }
      ]
    },
    {
      "cell_type": "code",
      "metadata": {
        "id": "gHtTdEI2HJm_"
      },
      "source": [
        ""
      ],
      "execution_count": 158,
      "outputs": []
    },
    {
      "cell_type": "code",
      "metadata": {
        "id": "z3XEgYuXAQ03"
      },
      "source": [
        "\n"
      ],
      "execution_count": 158,
      "outputs": []
    }
  ]
}