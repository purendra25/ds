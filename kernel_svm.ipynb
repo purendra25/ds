{
  "nbformat": 4,
  "nbformat_minor": 0,
  "metadata": {
    "colab": {
      "name": "Copy of kernel_svm.ipynb",
      "provenance": [],
      "collapsed_sections": [],
      "toc_visible": true,
      "machine_shape": "hm",
      "include_colab_link": true
    },
    "kernelspec": {
      "name": "python3",
      "display_name": "Python 3"
    }
  },
  "cells": [
    {
      "cell_type": "markdown",
      "metadata": {
        "id": "view-in-github",
        "colab_type": "text"
      },
      "source": [
        "<a href=\"https://colab.research.google.com/github/purendra25/ds/blob/master/kernel_svm.ipynb\" target=\"_parent\"><img src=\"https://colab.research.google.com/assets/colab-badge.svg\" alt=\"Open In Colab\"/></a>"
      ]
    },
    {
      "cell_type": "markdown",
      "metadata": {
        "id": "0MRC0e0KhQ0S",
        "colab_type": "text"
      },
      "source": [
        "# Kernel SVM"
      ]
    },
    {
      "cell_type": "markdown",
      "metadata": {
        "id": "LWd1UlMnhT2s",
        "colab_type": "text"
      },
      "source": [
        "## Importing the libraries"
      ]
    },
    {
      "cell_type": "code",
      "metadata": {
        "id": "YvGPUQaHhXfL",
        "colab_type": "code",
        "colab": {}
      },
      "source": [
        "import numpy as np\n",
        "import matplotlib.pyplot as plt\n",
        "import pandas as pd"
      ],
      "execution_count": 21,
      "outputs": []
    },
    {
      "cell_type": "markdown",
      "metadata": {
        "id": "K1VMqkGvhc3-",
        "colab_type": "text"
      },
      "source": [
        "## Importing the dataset"
      ]
    },
    {
      "cell_type": "code",
      "metadata": {
        "id": "M52QDmyzhh9s",
        "colab_type": "code",
        "colab": {}
      },
      "source": [
        "dataset = pd.read_csv('Social_Network_Ads.csv')\n",
        "X = dataset.iloc[:, :-1].values\n",
        "y = dataset.iloc[:, -1].values"
      ],
      "execution_count": 22,
      "outputs": []
    },
    {
      "cell_type": "markdown",
      "metadata": {
        "id": "YvxIPVyMhmKp",
        "colab_type": "text"
      },
      "source": [
        "## Splitting the dataset into the Training set and Test set"
      ]
    },
    {
      "cell_type": "code",
      "metadata": {
        "id": "AVzJWAXIhxoC",
        "colab_type": "code",
        "colab": {}
      },
      "source": [
        "from sklearn.model_selection import train_test_split\n",
        "X_train, X_test, y_train, y_test = train_test_split(X, y, test_size = 0.25, random_state = 0)"
      ],
      "execution_count": 23,
      "outputs": []
    },
    {
      "cell_type": "code",
      "metadata": {
        "id": "P3nS3-6r1i2B",
        "colab_type": "code",
        "colab": {}
      },
      "source": [
        "#print(X_train)"
      ],
      "execution_count": 24,
      "outputs": []
    },
    {
      "cell_type": "code",
      "metadata": {
        "id": "8dpDLojm1mVG",
        "colab_type": "code",
        "colab": {}
      },
      "source": [
        "#print(y_train)"
      ],
      "execution_count": 25,
      "outputs": []
    },
    {
      "cell_type": "code",
      "metadata": {
        "id": "qbb7i0DH1qui",
        "colab_type": "code",
        "colab": {}
      },
      "source": [
        "#print(X_test)"
      ],
      "execution_count": 26,
      "outputs": []
    },
    {
      "cell_type": "code",
      "metadata": {
        "id": "kj1hnFAR1s5w",
        "colab_type": "code",
        "colab": {}
      },
      "source": [
        "#print(y_test)"
      ],
      "execution_count": 27,
      "outputs": []
    },
    {
      "cell_type": "markdown",
      "metadata": {
        "id": "kW3c7UYih0hT",
        "colab_type": "text"
      },
      "source": [
        "## Feature Scaling"
      ]
    },
    {
      "cell_type": "code",
      "metadata": {
        "id": "9fQlDPKCh8sc",
        "colab_type": "code",
        "colab": {}
      },
      "source": [
        "from sklearn.preprocessing import StandardScaler\n",
        "sc = StandardScaler()\n",
        "X_train = sc.fit_transform(X_train)\n",
        "X_test = sc.transform(X_test)"
      ],
      "execution_count": 28,
      "outputs": []
    },
    {
      "cell_type": "code",
      "metadata": {
        "id": "syrnD1Op2BSR",
        "colab_type": "code",
        "colab": {
          "base_uri": "https://localhost:8080/",
          "height": 1000
        },
        "outputId": "cd532870-aca1-4fd6-d977-eb8f80fbbd7a"
      },
      "source": [
        "print(X_train)"
      ],
      "execution_count": 29,
      "outputs": [
        {
          "output_type": "stream",
          "text": [
            "[[ 0.58164944 -0.88670699]\n",
            " [-0.60673761  1.46173768]\n",
            " [-0.01254409 -0.5677824 ]\n",
            " [-0.60673761  1.89663484]\n",
            " [ 1.37390747 -1.40858358]\n",
            " [ 1.47293972  0.99784738]\n",
            " [ 0.08648817 -0.79972756]\n",
            " [-0.01254409 -0.24885782]\n",
            " [-0.21060859 -0.5677824 ]\n",
            " [-0.21060859 -0.19087153]\n",
            " [-0.30964085 -1.29261101]\n",
            " [-0.30964085 -0.5677824 ]\n",
            " [ 0.38358493  0.09905991]\n",
            " [ 0.8787462  -0.59677555]\n",
            " [ 2.06713324 -1.17663843]\n",
            " [ 1.07681071 -0.13288524]\n",
            " [ 0.68068169  1.78066227]\n",
            " [-0.70576986  0.56295021]\n",
            " [ 0.77971394  0.35999821]\n",
            " [ 0.8787462  -0.53878926]\n",
            " [-1.20093113 -1.58254245]\n",
            " [ 2.1661655   0.93986109]\n",
            " [-0.01254409  1.22979253]\n",
            " [ 0.18552042  1.08482681]\n",
            " [ 0.38358493 -0.48080297]\n",
            " [-0.30964085 -0.30684411]\n",
            " [ 0.97777845 -0.8287207 ]\n",
            " [ 0.97777845  1.8676417 ]\n",
            " [-0.01254409  1.25878567]\n",
            " [-0.90383437  2.27354572]\n",
            " [-1.20093113 -1.58254245]\n",
            " [ 2.1661655  -0.79972756]\n",
            " [-1.39899564 -1.46656987]\n",
            " [ 0.38358493  2.30253886]\n",
            " [ 0.77971394  0.76590222]\n",
            " [-1.00286662 -0.30684411]\n",
            " [ 0.08648817  0.76590222]\n",
            " [-1.00286662  0.56295021]\n",
            " [ 0.28455268  0.07006676]\n",
            " [ 0.68068169 -1.26361786]\n",
            " [-0.50770535 -0.01691267]\n",
            " [-1.79512465  0.35999821]\n",
            " [-0.70576986  0.12805305]\n",
            " [ 0.38358493  0.30201192]\n",
            " [-0.30964085  0.07006676]\n",
            " [-0.50770535  2.30253886]\n",
            " [ 0.18552042  0.04107362]\n",
            " [ 1.27487521  2.21555943]\n",
            " [ 0.77971394  0.27301877]\n",
            " [-0.30964085  0.1570462 ]\n",
            " [-0.01254409 -0.53878926]\n",
            " [-0.21060859  0.1570462 ]\n",
            " [-0.11157634  0.24402563]\n",
            " [-0.01254409 -0.24885782]\n",
            " [ 2.1661655   1.11381995]\n",
            " [-1.79512465  0.35999821]\n",
            " [ 1.86906873  0.12805305]\n",
            " [ 0.38358493 -0.13288524]\n",
            " [-1.20093113  0.30201192]\n",
            " [ 0.77971394  1.37475825]\n",
            " [-0.30964085 -0.24885782]\n",
            " [-1.6960924  -0.04590581]\n",
            " [-1.00286662 -0.74174127]\n",
            " [ 0.28455268  0.50496393]\n",
            " [-0.11157634 -1.06066585]\n",
            " [-1.10189888  0.59194336]\n",
            " [ 0.08648817 -0.79972756]\n",
            " [-1.00286662  1.54871711]\n",
            " [-0.70576986  1.40375139]\n",
            " [-1.29996338  0.50496393]\n",
            " [-0.30964085  0.04107362]\n",
            " [-0.11157634  0.01208048]\n",
            " [-0.30964085 -0.88670699]\n",
            " [ 0.8787462  -1.3505973 ]\n",
            " [-0.30964085  2.24455257]\n",
            " [ 0.97777845  1.98361427]\n",
            " [-1.20093113  0.47597078]\n",
            " [-1.29996338  0.27301877]\n",
            " [ 1.37390747  1.98361427]\n",
            " [ 1.27487521 -1.3505973 ]\n",
            " [-0.30964085 -0.27785096]\n",
            " [-0.50770535  1.25878567]\n",
            " [-0.80480212  1.08482681]\n",
            " [ 0.97777845 -1.06066585]\n",
            " [ 0.28455268  0.30201192]\n",
            " [ 0.97777845  0.76590222]\n",
            " [-0.70576986 -1.49556302]\n",
            " [-0.70576986  0.04107362]\n",
            " [ 0.48261718  1.72267598]\n",
            " [ 2.06713324  0.18603934]\n",
            " [-1.99318916 -0.74174127]\n",
            " [-0.21060859  1.40375139]\n",
            " [ 0.38358493  0.59194336]\n",
            " [ 0.8787462  -1.14764529]\n",
            " [-1.20093113 -0.77073441]\n",
            " [ 0.18552042  0.24402563]\n",
            " [ 0.77971394 -0.30684411]\n",
            " [ 2.06713324 -0.79972756]\n",
            " [ 0.77971394  0.12805305]\n",
            " [-0.30964085  0.6209365 ]\n",
            " [-1.00286662 -0.30684411]\n",
            " [ 0.18552042 -0.3648304 ]\n",
            " [ 2.06713324  2.12857999]\n",
            " [ 1.86906873 -1.26361786]\n",
            " [ 1.37390747 -0.91570013]\n",
            " [ 0.8787462   1.25878567]\n",
            " [ 1.47293972  2.12857999]\n",
            " [-0.30964085 -1.23462472]\n",
            " [ 1.96810099  0.91086794]\n",
            " [ 0.68068169 -0.71274813]\n",
            " [-1.49802789  0.35999821]\n",
            " [ 0.77971394 -1.3505973 ]\n",
            " [ 0.38358493 -0.13288524]\n",
            " [-1.00286662  0.41798449]\n",
            " [-0.01254409 -0.30684411]\n",
            " [-1.20093113  0.41798449]\n",
            " [-0.90383437 -1.20563157]\n",
            " [-0.11157634  0.04107362]\n",
            " [-1.59706014 -0.42281668]\n",
            " [ 0.97777845 -1.00267957]\n",
            " [ 1.07681071 -1.20563157]\n",
            " [-0.01254409 -0.13288524]\n",
            " [-1.10189888 -1.52455616]\n",
            " [ 0.77971394 -1.20563157]\n",
            " [ 0.97777845  2.07059371]\n",
            " [-1.20093113 -1.52455616]\n",
            " [-0.30964085  0.79489537]\n",
            " [ 0.08648817 -0.30684411]\n",
            " [-1.39899564 -1.23462472]\n",
            " [-0.60673761 -1.49556302]\n",
            " [ 0.77971394  0.53395707]\n",
            " [-0.30964085 -0.33583725]\n",
            " [ 1.77003648 -0.27785096]\n",
            " [ 0.8787462  -1.03167271]\n",
            " [ 0.18552042  0.07006676]\n",
            " [-0.60673761  0.8818748 ]\n",
            " [-1.89415691 -1.40858358]\n",
            " [-1.29996338  0.59194336]\n",
            " [-0.30964085  0.53395707]\n",
            " [-1.00286662 -1.089659  ]\n",
            " [ 1.17584296 -1.43757673]\n",
            " [ 0.18552042 -0.30684411]\n",
            " [ 1.17584296 -0.74174127]\n",
            " [-0.30964085  0.07006676]\n",
            " [ 0.18552042  2.09958685]\n",
            " [ 0.77971394 -1.089659  ]\n",
            " [ 0.08648817  0.04107362]\n",
            " [-1.79512465  0.12805305]\n",
            " [-0.90383437  0.1570462 ]\n",
            " [-0.70576986  0.18603934]\n",
            " [ 0.8787462  -1.29261101]\n",
            " [ 0.18552042 -0.24885782]\n",
            " [-0.4086731   1.22979253]\n",
            " [-0.01254409  0.30201192]\n",
            " [ 0.38358493  0.1570462 ]\n",
            " [ 0.8787462  -0.65476184]\n",
            " [ 0.08648817  0.1570462 ]\n",
            " [-1.89415691 -1.29261101]\n",
            " [-0.11157634  0.30201192]\n",
            " [-0.21060859 -0.27785096]\n",
            " [ 0.28455268 -0.50979612]\n",
            " [-0.21060859  1.6067034 ]\n",
            " [ 0.97777845 -1.17663843]\n",
            " [-0.21060859  1.63569655]\n",
            " [ 1.27487521  1.8676417 ]\n",
            " [-1.10189888 -0.3648304 ]\n",
            " [-0.01254409  0.04107362]\n",
            " [ 0.08648817 -0.24885782]\n",
            " [-1.59706014 -1.23462472]\n",
            " [-0.50770535 -0.27785096]\n",
            " [ 0.97777845  0.12805305]\n",
            " [ 1.96810099 -1.3505973 ]\n",
            " [ 1.47293972  0.07006676]\n",
            " [-0.60673761  1.37475825]\n",
            " [ 1.57197197  0.01208048]\n",
            " [-0.80480212  0.30201192]\n",
            " [ 1.96810099  0.73690908]\n",
            " [-1.20093113 -0.50979612]\n",
            " [ 0.68068169  0.27301877]\n",
            " [-1.39899564 -0.42281668]\n",
            " [ 0.18552042  0.1570462 ]\n",
            " [-0.50770535 -1.20563157]\n",
            " [ 0.58164944  2.01260742]\n",
            " [-1.59706014 -1.49556302]\n",
            " [-0.50770535 -0.53878926]\n",
            " [ 0.48261718  1.83864855]\n",
            " [-1.39899564 -1.089659  ]\n",
            " [ 0.77971394 -1.37959044]\n",
            " [-0.30964085 -0.42281668]\n",
            " [ 1.57197197  0.99784738]\n",
            " [ 0.97777845  1.43274454]\n",
            " [-0.30964085 -0.48080297]\n",
            " [-0.11157634  2.15757314]\n",
            " [-1.49802789 -0.1038921 ]\n",
            " [-0.11157634  1.95462113]\n",
            " [-0.70576986 -0.33583725]\n",
            " [-0.50770535 -0.8287207 ]\n",
            " [ 0.68068169 -1.37959044]\n",
            " [-0.80480212 -1.58254245]\n",
            " [-1.89415691 -1.46656987]\n",
            " [ 1.07681071  0.12805305]\n",
            " [ 0.08648817  1.51972397]\n",
            " [-0.30964085  0.09905991]\n",
            " [ 0.08648817  0.04107362]\n",
            " [-1.39899564 -1.3505973 ]\n",
            " [ 0.28455268  0.07006676]\n",
            " [-0.90383437  0.38899135]\n",
            " [ 1.57197197 -1.26361786]\n",
            " [-0.30964085 -0.74174127]\n",
            " [-0.11157634  0.1570462 ]\n",
            " [-0.90383437 -0.65476184]\n",
            " [-0.70576986 -0.04590581]\n",
            " [ 0.38358493 -0.45180983]\n",
            " [-0.80480212  1.89663484]\n",
            " [ 1.37390747  1.28777882]\n",
            " [ 1.17584296 -0.97368642]\n",
            " [ 1.77003648  1.83864855]\n",
            " [-0.90383437 -0.24885782]\n",
            " [-0.80480212  0.56295021]\n",
            " [-1.20093113 -1.5535493 ]\n",
            " [-0.50770535 -1.11865214]\n",
            " [ 0.28455268  0.07006676]\n",
            " [-0.21060859 -1.06066585]\n",
            " [ 1.67100423  1.6067034 ]\n",
            " [ 0.97777845  1.78066227]\n",
            " [ 0.28455268  0.04107362]\n",
            " [-0.80480212 -0.21986468]\n",
            " [-0.11157634  0.07006676]\n",
            " [ 0.28455268 -0.19087153]\n",
            " [ 1.96810099 -0.65476184]\n",
            " [-0.80480212  1.3457651 ]\n",
            " [-1.79512465 -0.59677555]\n",
            " [-0.11157634  0.12805305]\n",
            " [ 0.28455268 -0.30684411]\n",
            " [ 1.07681071  0.56295021]\n",
            " [-1.00286662  0.27301877]\n",
            " [ 1.47293972  0.35999821]\n",
            " [ 0.18552042 -0.3648304 ]\n",
            " [ 2.1661655  -1.03167271]\n",
            " [-0.30964085  1.11381995]\n",
            " [-1.6960924   0.07006676]\n",
            " [-0.01254409  0.04107362]\n",
            " [ 0.08648817  1.05583366]\n",
            " [-0.11157634 -0.3648304 ]\n",
            " [-1.20093113  0.07006676]\n",
            " [-0.30964085 -1.3505973 ]\n",
            " [ 1.57197197  1.11381995]\n",
            " [-0.80480212 -1.52455616]\n",
            " [ 0.08648817  1.8676417 ]\n",
            " [-0.90383437 -0.77073441]\n",
            " [-0.50770535 -0.77073441]\n",
            " [-0.30964085 -0.91570013]\n",
            " [ 0.28455268 -0.71274813]\n",
            " [ 0.28455268  0.07006676]\n",
            " [ 0.08648817  1.8676417 ]\n",
            " [-1.10189888  1.95462113]\n",
            " [-1.6960924  -1.5535493 ]\n",
            " [-1.20093113 -1.089659  ]\n",
            " [-0.70576986 -0.1038921 ]\n",
            " [ 0.08648817  0.09905991]\n",
            " [ 0.28455268  0.27301877]\n",
            " [ 0.8787462  -0.5677824 ]\n",
            " [ 0.28455268 -1.14764529]\n",
            " [-0.11157634  0.67892279]\n",
            " [ 2.1661655  -0.68375498]\n",
            " [-1.29996338 -1.37959044]\n",
            " [-1.00286662 -0.94469328]\n",
            " [-0.01254409 -0.42281668]\n",
            " [-0.21060859 -0.45180983]\n",
            " [-1.79512465 -0.97368642]\n",
            " [ 1.77003648  0.99784738]\n",
            " [ 0.18552042 -0.3648304 ]\n",
            " [ 0.38358493  1.11381995]\n",
            " [-1.79512465 -1.3505973 ]\n",
            " [ 0.18552042 -0.13288524]\n",
            " [ 0.8787462  -1.43757673]\n",
            " [-1.99318916  0.47597078]\n",
            " [-0.30964085  0.27301877]\n",
            " [ 1.86906873 -1.06066585]\n",
            " [-0.4086731   0.07006676]\n",
            " [ 1.07681071 -0.88670699]\n",
            " [-1.10189888 -1.11865214]\n",
            " [-1.89415691  0.01208048]\n",
            " [ 0.08648817  0.27301877]\n",
            " [-1.20093113  0.33100506]\n",
            " [-1.29996338  0.30201192]\n",
            " [-1.00286662  0.44697764]\n",
            " [ 1.67100423 -0.88670699]\n",
            " [ 1.17584296  0.53395707]\n",
            " [ 1.07681071  0.53395707]\n",
            " [ 1.37390747  2.331532  ]\n",
            " [-0.30964085 -0.13288524]\n",
            " [ 0.38358493 -0.45180983]\n",
            " [-0.4086731  -0.77073441]\n",
            " [-0.11157634 -0.50979612]\n",
            " [ 0.97777845 -1.14764529]\n",
            " [-0.90383437 -0.77073441]\n",
            " [-0.21060859 -0.50979612]\n",
            " [-1.10189888 -0.45180983]\n",
            " [-1.20093113  1.40375139]]\n"
          ],
          "name": "stdout"
        }
      ]
    },
    {
      "cell_type": "code",
      "metadata": {
        "id": "JUd6iBRp2C3L",
        "colab_type": "code",
        "colab": {
          "base_uri": "https://localhost:8080/",
          "height": 1000
        },
        "outputId": "65314882-6bdd-42fd-c591-fc76ec97f189"
      },
      "source": [
        "print(X_test)"
      ],
      "execution_count": 30,
      "outputs": [
        {
          "output_type": "stream",
          "text": [
            "[[-0.80480212  0.50496393]\n",
            " [-0.01254409 -0.5677824 ]\n",
            " [-0.30964085  0.1570462 ]\n",
            " [-0.80480212  0.27301877]\n",
            " [-0.30964085 -0.5677824 ]\n",
            " [-1.10189888 -1.43757673]\n",
            " [-0.70576986 -1.58254245]\n",
            " [-0.21060859  2.15757314]\n",
            " [-1.99318916 -0.04590581]\n",
            " [ 0.8787462  -0.77073441]\n",
            " [-0.80480212 -0.59677555]\n",
            " [-1.00286662 -0.42281668]\n",
            " [-0.11157634 -0.42281668]\n",
            " [ 0.08648817  0.21503249]\n",
            " [-1.79512465  0.47597078]\n",
            " [-0.60673761  1.37475825]\n",
            " [-0.11157634  0.21503249]\n",
            " [-1.89415691  0.44697764]\n",
            " [ 1.67100423  1.75166912]\n",
            " [-0.30964085 -1.37959044]\n",
            " [-0.30964085 -0.65476184]\n",
            " [ 0.8787462   2.15757314]\n",
            " [ 0.28455268 -0.53878926]\n",
            " [ 0.8787462   1.02684052]\n",
            " [-1.49802789 -1.20563157]\n",
            " [ 1.07681071  2.07059371]\n",
            " [-1.00286662  0.50496393]\n",
            " [-0.90383437  0.30201192]\n",
            " [-0.11157634 -0.21986468]\n",
            " [-0.60673761  0.47597078]\n",
            " [-1.6960924   0.53395707]\n",
            " [-0.11157634  0.27301877]\n",
            " [ 1.86906873 -0.27785096]\n",
            " [-0.11157634 -0.48080297]\n",
            " [-1.39899564 -0.33583725]\n",
            " [-1.99318916 -0.50979612]\n",
            " [-1.59706014  0.33100506]\n",
            " [-0.4086731  -0.77073441]\n",
            " [-0.70576986 -1.03167271]\n",
            " [ 1.07681071 -0.97368642]\n",
            " [-1.10189888  0.53395707]\n",
            " [ 0.28455268 -0.50979612]\n",
            " [-1.10189888  0.41798449]\n",
            " [-0.30964085 -1.43757673]\n",
            " [ 0.48261718  1.22979253]\n",
            " [-1.10189888 -0.33583725]\n",
            " [-0.11157634  0.30201192]\n",
            " [ 1.37390747  0.59194336]\n",
            " [-1.20093113 -1.14764529]\n",
            " [ 1.07681071  0.47597078]\n",
            " [ 1.86906873  1.51972397]\n",
            " [-0.4086731  -1.29261101]\n",
            " [-0.30964085 -0.3648304 ]\n",
            " [-0.4086731   1.31677196]\n",
            " [ 2.06713324  0.53395707]\n",
            " [ 0.68068169 -1.089659  ]\n",
            " [-0.90383437  0.38899135]\n",
            " [-1.20093113  0.30201192]\n",
            " [ 1.07681071 -1.20563157]\n",
            " [-1.49802789 -1.43757673]\n",
            " [-0.60673761 -1.49556302]\n",
            " [ 2.1661655  -0.79972756]\n",
            " [-1.89415691  0.18603934]\n",
            " [-0.21060859  0.85288166]\n",
            " [-1.89415691 -1.26361786]\n",
            " [ 2.1661655   0.38899135]\n",
            " [-1.39899564  0.56295021]\n",
            " [-1.10189888 -0.33583725]\n",
            " [ 0.18552042 -0.65476184]\n",
            " [ 0.38358493  0.01208048]\n",
            " [-0.60673761  2.331532  ]\n",
            " [-0.30964085  0.21503249]\n",
            " [-1.59706014 -0.19087153]\n",
            " [ 0.68068169 -1.37959044]\n",
            " [-1.10189888  0.56295021]\n",
            " [-1.99318916  0.35999821]\n",
            " [ 0.38358493  0.27301877]\n",
            " [ 0.18552042 -0.27785096]\n",
            " [ 1.47293972 -1.03167271]\n",
            " [ 0.8787462   1.08482681]\n",
            " [ 1.96810099  2.15757314]\n",
            " [ 2.06713324  0.38899135]\n",
            " [-1.39899564 -0.42281668]\n",
            " [-1.20093113 -1.00267957]\n",
            " [ 1.96810099 -0.91570013]\n",
            " [ 0.38358493  0.30201192]\n",
            " [ 0.18552042  0.1570462 ]\n",
            " [ 2.06713324  1.75166912]\n",
            " [ 0.77971394 -0.8287207 ]\n",
            " [ 0.28455268 -0.27785096]\n",
            " [ 0.38358493 -0.16187839]\n",
            " [-0.11157634  2.21555943]\n",
            " [-1.49802789 -0.62576869]\n",
            " [-1.29996338 -1.06066585]\n",
            " [-1.39899564  0.41798449]\n",
            " [-1.10189888  0.76590222]\n",
            " [-1.49802789 -0.19087153]\n",
            " [ 0.97777845 -1.06066585]\n",
            " [ 0.97777845  0.59194336]\n",
            " [ 0.38358493  0.99784738]]\n"
          ],
          "name": "stdout"
        }
      ]
    },
    {
      "cell_type": "markdown",
      "metadata": {
        "id": "bb6jCOCQiAmP",
        "colab_type": "text"
      },
      "source": [
        "## Training the Kernel SVM model on the Training set"
      ]
    },
    {
      "cell_type": "code",
      "metadata": {
        "id": "e0pFVAmciHQs",
        "colab_type": "code",
        "colab": {
          "base_uri": "https://localhost:8080/",
          "height": 85
        },
        "outputId": "978fcfdb-0a2e-45e6-f34f-9ef9d0ba0557"
      },
      "source": [
        "from sklearn.svm import SVC\n",
        "classifier = SVC(kernel = 'rbf', random_state = 0)\n",
        "classifier.fit(X_train, y_train)"
      ],
      "execution_count": 31,
      "outputs": [
        {
          "output_type": "execute_result",
          "data": {
            "text/plain": [
              "SVC(C=1.0, break_ties=False, cache_size=200, class_weight=None, coef0=0.0,\n",
              "    decision_function_shape='ovr', degree=3, gamma='scale', kernel='rbf',\n",
              "    max_iter=-1, probability=False, random_state=0, shrinking=True, tol=0.001,\n",
              "    verbose=False)"
            ]
          },
          "metadata": {
            "tags": []
          },
          "execution_count": 31
        }
      ]
    },
    {
      "cell_type": "code",
      "metadata": {
        "id": "LrnEGMFC9ip_",
        "colab_type": "code",
        "colab": {}
      },
      "source": [
        ""
      ],
      "execution_count": 31,
      "outputs": []
    },
    {
      "cell_type": "markdown",
      "metadata": {
        "id": "yyxW5b395mR2",
        "colab_type": "text"
      },
      "source": [
        "## Predicting a new result"
      ]
    },
    {
      "cell_type": "code",
      "metadata": {
        "id": "f8YOXsQy58rP",
        "colab_type": "code",
        "colab": {
          "base_uri": "https://localhost:8080/",
          "height": 34
        },
        "outputId": "a92751e9-d31f-4125-9192-acd1bc8d836f"
      },
      "source": [
        "print(classifier.predict(sc.transform([[30,87000]])))"
      ],
      "execution_count": 32,
      "outputs": [
        {
          "output_type": "stream",
          "text": [
            "[0]\n"
          ],
          "name": "stdout"
        }
      ]
    },
    {
      "cell_type": "markdown",
      "metadata": {
        "id": "vKYVQH-l5NpE",
        "colab_type": "text"
      },
      "source": [
        "## Predicting the Test set results"
      ]
    },
    {
      "cell_type": "code",
      "metadata": {
        "id": "p6VMTb2O4hwM",
        "colab_type": "code",
        "colab": {
          "base_uri": "https://localhost:8080/",
          "height": 1000
        },
        "outputId": "047bceab-7d3c-4a10-f122-64c478c5e916"
      },
      "source": [
        "y_pred = classifier.predict(X_test)\n",
        "print(np.concatenate((y_pred.reshape(len(y_pred),1), y_test.reshape(len(y_test),1)),1))"
      ],
      "execution_count": 33,
      "outputs": [
        {
          "output_type": "stream",
          "text": [
            "[[0 0]\n",
            " [0 0]\n",
            " [0 0]\n",
            " [0 0]\n",
            " [0 0]\n",
            " [0 0]\n",
            " [0 0]\n",
            " [1 1]\n",
            " [0 0]\n",
            " [1 0]\n",
            " [0 0]\n",
            " [0 0]\n",
            " [0 0]\n",
            " [0 0]\n",
            " [0 0]\n",
            " [1 0]\n",
            " [0 0]\n",
            " [0 0]\n",
            " [1 1]\n",
            " [0 0]\n",
            " [0 0]\n",
            " [1 1]\n",
            " [0 0]\n",
            " [1 1]\n",
            " [0 0]\n",
            " [1 1]\n",
            " [0 0]\n",
            " [0 0]\n",
            " [0 0]\n",
            " [0 0]\n",
            " [0 0]\n",
            " [0 1]\n",
            " [1 1]\n",
            " [0 0]\n",
            " [0 0]\n",
            " [0 0]\n",
            " [0 0]\n",
            " [0 0]\n",
            " [0 0]\n",
            " [1 1]\n",
            " [0 0]\n",
            " [0 0]\n",
            " [0 0]\n",
            " [0 0]\n",
            " [1 1]\n",
            " [0 0]\n",
            " [0 0]\n",
            " [1 1]\n",
            " [0 0]\n",
            " [1 1]\n",
            " [1 1]\n",
            " [0 0]\n",
            " [0 0]\n",
            " [1 0]\n",
            " [1 1]\n",
            " [1 1]\n",
            " [0 0]\n",
            " [0 0]\n",
            " [1 1]\n",
            " [0 0]\n",
            " [0 0]\n",
            " [1 1]\n",
            " [0 0]\n",
            " [1 1]\n",
            " [0 0]\n",
            " [1 1]\n",
            " [0 0]\n",
            " [0 0]\n",
            " [0 0]\n",
            " [0 0]\n",
            " [1 1]\n",
            " [0 0]\n",
            " [0 0]\n",
            " [1 1]\n",
            " [0 0]\n",
            " [0 0]\n",
            " [0 0]\n",
            " [0 0]\n",
            " [1 1]\n",
            " [1 1]\n",
            " [1 1]\n",
            " [1 0]\n",
            " [0 0]\n",
            " [0 0]\n",
            " [1 1]\n",
            " [0 1]\n",
            " [0 0]\n",
            " [1 1]\n",
            " [1 1]\n",
            " [0 0]\n",
            " [0 0]\n",
            " [1 1]\n",
            " [0 0]\n",
            " [0 0]\n",
            " [0 0]\n",
            " [0 1]\n",
            " [0 0]\n",
            " [1 1]\n",
            " [1 1]\n",
            " [1 1]]\n"
          ],
          "name": "stdout"
        }
      ]
    },
    {
      "cell_type": "markdown",
      "metadata": {
        "id": "h4Hwj34ziWQW",
        "colab_type": "text"
      },
      "source": [
        "## Making the Confusion Matrix"
      ]
    },
    {
      "cell_type": "code",
      "metadata": {
        "id": "D6bpZwUiiXic",
        "colab_type": "code",
        "colab": {
          "base_uri": "https://localhost:8080/",
          "height": 68
        },
        "outputId": "982400a8-85b2-48ab-9a5e-e4909dbd25cd"
      },
      "source": [
        "from sklearn.metrics import confusion_matrix, accuracy_score\n",
        "cm = confusion_matrix(y_test, y_pred)\n",
        "print(cm)\n",
        "accuracy_score(y_test, y_pred)"
      ],
      "execution_count": 34,
      "outputs": [
        {
          "output_type": "stream",
          "text": [
            "[[64  4]\n",
            " [ 3 29]]\n"
          ],
          "name": "stdout"
        },
        {
          "output_type": "execute_result",
          "data": {
            "text/plain": [
              "0.93"
            ]
          },
          "metadata": {
            "tags": []
          },
          "execution_count": 34
        }
      ]
    },
    {
      "cell_type": "markdown",
      "metadata": {
        "id": "6OMC_P0diaoD",
        "colab_type": "text"
      },
      "source": [
        "## Visualising the Training set results"
      ]
    },
    {
      "cell_type": "code",
      "metadata": {
        "id": "_NOjKvZRid5l",
        "colab_type": "code",
        "colab": {
          "base_uri": "https://localhost:8080/",
          "height": 349
        },
        "outputId": "17e6fa20-fa13-4c74-b0ee-79330177605c"
      },
      "source": [
        "from matplotlib.colors import ListedColormap\n",
        "X_set, y_set = sc.inverse_transform(X_train), y_train\n",
        "X1, X2 = np.meshgrid(np.arange(start = X_set[:, 0].min() - 10, stop = X_set[:, 0].max() + 10, step = 0.25),\n",
        "                     np.arange(start = X_set[:, 1].min() - 1000, stop = X_set[:, 1].max() + 1000, step = 0.25))\n",
        "plt.contourf(X1, X2, classifier.predict(sc.transform(np.array([X1.ravel(), X2.ravel()]).T)).reshape(X1.shape),\n",
        "             alpha = 0.75, cmap = ListedColormap(('red', 'green')))\n",
        "plt.xlim(X1.min(), X1.max())\n",
        "plt.ylim(X2.min(), X2.max())\n",
        "for i, j in enumerate(np.unique(y_set)):\n",
        "    plt.scatter(X_set[y_set == j, 0], X_set[y_set == j, 1], c = ListedColormap(('red', 'green'))(i), label = j)\n",
        "plt.title('Kernel SVM (Training set)')\n",
        "plt.xlabel('Age')\n",
        "plt.ylabel('Estimated Salary')\n",
        "plt.legend()\n",
        "plt.show()"
      ],
      "execution_count": 35,
      "outputs": [
        {
          "output_type": "stream",
          "text": [
            "*c* argument looks like a single numeric RGB or RGBA sequence, which should be avoided as value-mapping will have precedence in case its length matches with *x* & *y*.  Please use the *color* keyword-argument or provide a 2-D array with a single row if you intend to specify the same RGB or RGBA value for all points.\n",
            "*c* argument looks like a single numeric RGB or RGBA sequence, which should be avoided as value-mapping will have precedence in case its length matches with *x* & *y*.  Please use the *color* keyword-argument or provide a 2-D array with a single row if you intend to specify the same RGB or RGBA value for all points.\n"
          ],
          "name": "stderr"
        },
        {
          "output_type": "display_data",
          "data": {
            "image/png": "[encoded data removed]",
            "text/plain": [
              "<Figure size 432x288 with 1 Axes>"
            ]
          },
          "metadata": {
            "tags": [],
            "needs_background": "light"
          }
        }
      ]
    },
    {
      "cell_type": "markdown",
      "metadata": {
        "id": "SZ-j28aPihZx",
        "colab_type": "text"
      },
      "source": [
        "## Visualising the Test set results"
      ]
    },
    {
      "cell_type": "code",
      "metadata": {
        "id": "qeTjz2vDilAC",
        "colab_type": "code",
        "colab": {
          "base_uri": "https://localhost:8080/",
          "height": 349
        },
        "outputId": "6a8435bc-e232-4e2f-a260-87f003df7495"
      },
      "source": [
        "from matplotlib.colors import ListedColormap\n",
        "X_set, y_set = sc.inverse_transform(X_test), y_test\n",
        "X1, X2 = np.meshgrid(np.arange(start = X_set[:, 0].min() - 10, stop = X_set[:, 0].max() + 10, step = 0.25),\n",
        "                     np.arange(start = X_set[:, 1].min() - 1000, stop = X_set[:, 1].max() + 1000, step = 0.25))\n",
        "plt.contourf(X1, X2, classifier.predict(sc.transform(np.array([X1.ravel(), X2.ravel()]).T)).reshape(X1.shape),\n",
        "             alpha = 0.75, cmap = ListedColormap(('red', 'green')))\n",
        "plt.xlim(X1.min(), X1.max())\n",
        "plt.ylim(X2.min(), X2.max())\n",
        "for i, j in enumerate(np.unique(y_set)):\n",
        "    plt.scatter(X_set[y_set == j, 0], X_set[y_set == j, 1], c = ListedColormap(('red', 'green'))(i), label = j)\n",
        "plt.title('Kernel SVM (Test set)')\n",
        "plt.xlabel('Age')\n",
        "plt.ylabel('Estimated Salary')\n",
        "plt.legend()\n",
        "plt.show()"
      ],
      "execution_count": 20,
      "outputs": [
        {
          "output_type": "stream",
          "text": [
            "*c* argument looks like a single numeric RGB or RGBA sequence, which should be avoided as value-mapping will have precedence in case its length matches with *x* & *y*.  Please use the *color* keyword-argument or provide a 2-D array with a single row if you intend to specify the same RGB or RGBA value for all points.\n",
            "*c* argument looks like a single numeric RGB or RGBA sequence, which should be avoided as value-mapping will have precedence in case its length matches with *x* & *y*.  Please use the *color* keyword-argument or provide a 2-D array with a single row if you intend to specify the same RGB or RGBA value for all points.\n"
          ],
          "name": "stderr"
        },
        {
          "output_type": "display_data",
          "data": {
            "image/png": "[encoded data removed]",
            "text/plain": [
              "<Figure size 432x288 with 1 Axes>"
            ]
          },
          "metadata": {
            "tags": [],
            "needs_background": "light"
          }
        }
      ]
    }
  ]
}